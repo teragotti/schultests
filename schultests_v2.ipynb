{
 "cells": [
  {
   "cell_type": "markdown",
   "metadata": {},
   "source": [
    "Extract images from PDF:\n",
    "\n",
    "https://www.thepythoncode.com/article/extract-pdf-images-in-python\n",
    "\n",
    "\n",
    "OCR from image:\n",
    "\n",
    "https://pypi.org/project/pytesseract/\n",
    "\n",
    "Follow installation instructions for tesseract and don't forget to install the optional german trainingdata"
   ]
  },
  {
   "cell_type": "code",
   "execution_count": 8,
   "metadata": {},
   "outputs": [],
   "source": [
    "try:\n",
    "    from PIL import Image\n",
    "except ImportError:\n",
    "    import Image\n",
    "import pytesseract\n",
    "import fitz # PyMuPDF \n",
    "import io"
   ]
  },
  {
   "cell_type": "code",
   "execution_count": 9,
   "metadata": {},
   "outputs": [],
   "source": [
    "pytesseract.pytesseract.tesseract_cmd = r'C:\\Program Files\\Tesseract-OCR\\tesseract'"
   ]
  },
  {
   "cell_type": "code",
   "execution_count": 10,
   "metadata": {},
   "outputs": [],
   "source": [
    "# file path you want to extract images from\n",
    "file = \"Kommission_20211125_Sitzungsergebnis_Schule.pdf\"\n",
    "# open the file\n",
    "pdf_file = fitz.open(file)"
   ]
  },
  {
   "cell_type": "code",
   "execution_count": 11,
   "metadata": {},
   "outputs": [
    {
     "name": "stdout",
     "output_type": "stream",
     "text": [
      "[+] Found a total of 4 images in page 0\n",
      "[!] No images found on page 1\n",
      "[!] No images found on page 2\n",
      "[!] No images found on page 3\n",
      "[!] No images found on page 4\n",
      "[+] Found a total of 1 images in page 5\n",
      "[+] Found a total of 2 images in page 6\n",
      "[+] Found a total of 2 images in page 7\n",
      "[+] Found a total of 2 images in page 8\n",
      "[+] Found a total of 1 images in page 9\n",
      "[+] Found a total of 1 images in page 10\n",
      "[+] Found a total of 1 images in page 11\n",
      "[+] Found a total of 1 images in page 12\n",
      "[+] Found a total of 2 images in page 13\n",
      "[+] Found a total of 2 images in page 14\n",
      "[+] Found a total of 1 images in page 15\n",
      "[+] Found a total of 1 images in page 16\n",
      "[+] Found a total of 2 images in page 17\n",
      "[+] Found a total of 1 images in page 18\n",
      "[+] Found a total of 1 images in page 19\n",
      "[!] No images found on page 20\n",
      "[+] Found a total of 1 images in page 21\n",
      "[+] Found a total of 2 images in page 22\n",
      "[+] Found a total of 1 images in page 23\n",
      "[+] Found a total of 1 images in page 24\n",
      "[!] No images found on page 25\n",
      "[+] Found a total of 1 images in page 26\n",
      "[+] Found a total of 1 images in page 27\n",
      "[!] No images found on page 28\n",
      "[+] Found a total of 2 images in page 29\n",
      "[+] Found a total of 2 images in page 30\n",
      "[+] Found a total of 2 images in page 31\n",
      "[!] No images found on page 32\n"
     ]
    }
   ],
   "source": [
    "# iterate over PDF pages\n",
    "for page_index in range(len(pdf_file)):\n",
    "    # get the page itself\n",
    "    page = pdf_file[page_index]\n",
    "    image_list = page.getImageList()\n",
    "    # printing number of images found in this page\n",
    "    if image_list:\n",
    "        print(f\"[+] Found a total of {len(image_list)} images in page {page_index}\")\n",
    "    else:\n",
    "        print(\"[!] No images found on page\", page_index)\n",
    "    for image_index, img in enumerate(page.get_images(), start=1):\n",
    "        # get the XREF of the image\n",
    "        xref = img[0]\n",
    "        # extract the image bytes\n",
    "        base_image = pdf_file.extract_image(xref)\n",
    "        image_bytes = base_image[\"image\"]\n",
    "        # get the image extension\n",
    "        image_ext = base_image[\"ext\"]\n",
    "        # load it to PIL\n",
    "        image = Image.open(io.BytesIO(image_bytes))\n",
    "        # save it to local disk\n",
    "        image.save(open(f\"image{page_index+1}_{image_index}.{image_ext}\", \"wb\"))"
   ]
  },
  {
   "cell_type": "code",
   "execution_count": 12,
   "metadata": {},
   "outputs": [
    {
     "name": "stdout",
     "output_type": "stream",
     "text": [
      " \n",
      "\n",
      "KW 46\n",
      "\n",
      " \n",
      "\n",
      " \n",
      "\n",
      " \n",
      "\n",
      " \n",
      "\n",
      "Schulart Bundesland AG TestsN AG Testpositiiren PCRTestsN PCR Testpositiven TesttotalN (AG+PCR) Testtotal positive in % (n/N) 7-Tages Inzidenz\n",
      "Primarstufe Burgenland 20367 40 9264 23 29631 0,21% 1593,14\n",
      "Kärnten 40233 154 16374 85 56607 0,42% 2876,43\n",
      "Niederösterreich 109054 220 55934 217 164988 0,26% 1901,61\n",
      "Oberösterreich 110300 312 51785 434 162085 0,46% 3170,19\n",
      "Salzburg 43807 129 18652 120 62459 0,40% 3387,15\n",
      "Steiermark 82937 212 38697 246 121634 0,38% 1453,51\n",
      "Tirol 63335 302 25568 140 88903 0,50% 2731,79\n",
      "Vorarlberg 36707 106 14661 105 51368 0,41% 2675,46\n",
      "Wien 71134 148 125163 387 196297 0,27% 1476,12\n",
      "Österreich 394988 1003 356098 1757 751086 0,37% 2225,19\n",
      "Sekundarstufe Burgenland 19327 48 9062 37 28389 0,30% 1698,80\n",
      "Kärnten 39765 269 16546 115 56311 0,68% 4132,55\n",
      "Niederösterreich 104749 255 53415 209 158164 0,29% 2092,09\n",
      "Oberösterreich 99720 496 48537 492 148257 0,67% 3819,87\n",
      "Salzburg 48211 215 17049 122 65260 0,52% 4382,37\n",
      "Steiermark 78455 256 37060 272 115515 0,46% 1934,83\n",
      "Tirol 58986 310 24196 99 83182 0,49% 3049,67\n",
      "Vorarlberg 31911 105 13360 69 45271 0,38% 3153,41\n",
      "Wien 62703 137 116860 1048 179563 0,66% 1301,59\n",
      "Österreich 543827 2091 336085 2463 879912 0,52% 2597,11\n",
      "Sekundarstufe II Burgenland 20086 37 9043 26 29129 0,22% 1004,91\n",
      "Kärnten 37324 139 13817 70 51141 0,41% 2668,72\n",
      "Niederösterreich 84193 131 41652 122 125845 0,20% 1158,49\n",
      "Oberösterreich 88864 321 36774 273 125638 0,47% 2280,19\n",
      "Salzburg 40902 106 16293 73 57195 0,31% 2421,82\n",
      "Steiermark 63810 129 28639 158 92449 0,31% 1247,17\n",
      "Tirol 44831 87 19995 71 64826 0,24% 1732,70\n",
      "Vorarlberg 30250 59 9064 37 39314 0,24% 1742,08\n",
      "Wien 43963 69 65987 431 109950 0,46% 782,45\n",
      "Österreich 454223 1078 241264 1261 695487 0,34% 1533,60\n",
      "\n",
      " \n",
      "\f",
      "\n"
     ]
    }
   ],
   "source": [
    "print(pytesseract.image_to_string(Image.open('image13_1.png'), lang='deu'))"
   ]
  },
  {
   "cell_type": "code",
   "execution_count": null,
   "metadata": {},
   "outputs": [],
   "source": []
  }
 ],
 "metadata": {
  "kernelspec": {
   "display_name": "Python 3",
   "language": "python",
   "name": "python3"
  },
  "language_info": {
   "codemirror_mode": {
    "name": "ipython",
    "version": 3
   },
   "file_extension": ".py",
   "mimetype": "text/x-python",
   "name": "python",
   "nbconvert_exporter": "python",
   "pygments_lexer": "ipython3",
   "version": "3.7.6"
  }
 },
 "nbformat": 4,
 "nbformat_minor": 4
}
